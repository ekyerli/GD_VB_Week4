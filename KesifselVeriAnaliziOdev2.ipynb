{
 "cells": [
  {
   "cell_type": "markdown",
   "id": "unlikely-blank",
   "metadata": {},
   "source": [
    "## Rank değişkenini kategorik olarak değerlendirmenin avantaj ve dezavantajlarını göz önünde bulundurun. Argümanlarınızı mentorunuzla tartışın"
   ]
  },
  {
   "cell_type": "markdown",
   "id": "fossil-lexington",
   "metadata": {},
   "source": [
    "Kategorik olmasını makinenin anlamasını güçleştireceğini düşünüyorum, bu nedenle bence verinin sayısal olması o verinin hangi amaçla kullanıldığını anlamasında kolaylık sağlar."
   ]
  },
  {
   "cell_type": "markdown",
   "id": "interpreted-violin",
   "metadata": {},
   "source": [
    "# Aşağıdaki değişkenlerin türlerini belirleyin:\n",
    "\n",
    "Yaş:int\n",
    "\n",
    "Maaş:float\n",
    "\n",
    "Gelir:float\n",
    "\n",
    "Müşteri türü:object\n",
    "\n",
    "Hisse senedi fiyatı:float"
   ]
  }
 ],
 "metadata": {
  "kernelspec": {
   "display_name": "Python 3",
   "language": "python",
   "name": "python3"
  },
  "language_info": {
   "codemirror_mode": {
    "name": "ipython",
    "version": 3
   },
   "file_extension": ".py",
   "mimetype": "text/x-python",
   "name": "python",
   "nbconvert_exporter": "python",
   "pygments_lexer": "ipython3",
   "version": "3.9.2"
  }
 },
 "nbformat": 4,
 "nbformat_minor": 5
}
