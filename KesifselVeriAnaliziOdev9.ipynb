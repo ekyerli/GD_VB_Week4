{
 "cells": [
  {
   "cell_type": "markdown",
   "id": "logical-switch",
   "metadata": {},
   "source": [
    "(1) Try to model the result of throwing a coin. Include features in your model that you consider important when explaining the result. Discuss the pros and cons of adding too many features to your model with your mentor."
   ]
  },
  {
   "cell_type": "markdown",
   "id": "close-surrey",
   "metadata": {},
   "source": [
    "    a= Madeni paranın ağırlık merkezinin hızı,\n",
    "    b= Açısal hız faktörleri\n",
    "    c= Madeni paranın atılma açısı\n",
    "    d= Hava direnci\n",
    "    e= Yer çekimi sabiti\n",
    "    f= Yüzey sertliği\n",
    "    g= Paranın üniform olmayan ağırlığı"
   ]
  },
  {
   "cell_type": "markdown",
   "id": "sorted-separate",
   "metadata": {},
   "source": [
    "y=b0+b1Xa+b2*c+b3Xd+b4Xe+b5Xf+b6Xg şeklinde olur b0-b1-b2-b3-b4-b5-b6 katsayılardır."
   ]
  },
  {
   "cell_type": "markdown",
   "id": "optical-gibraltar",
   "metadata": {},
   "source": [
    "(2) If you have used Netflix before, you should have noticed that it offers some suggestions for you to watch. In data science, this is an example called referral systems. Read about Netflix's non-technical blog post about how they model their suggestion systems. Then derive the features they use in the referral engines and discuss any other features that can be included in this model."
   ]
  },
  {
   "cell_type": "markdown",
   "id": "controversial-specialist",
   "metadata": {},
   "source": [
    "Netflix, tavsiye sistemi algoritmasını geliştirirken, şu verileri kullandığını belirtmiş:\n",
    "hizmetimizle olan etkileşimleriniz (ör. izleme geçmişiniz ve diğer içeriklere nasıl puan verdiğiniz),\n",
    "hizmetimizde benzer zevklere ve tercihlere sahip diğer üyeler\n",
    "türler, kategoriler, oyuncular, yayınlanma yılı vb. gibi içerikler hakkında bilgi\n",
    "izlediğiniz günün saati,\n",
    "Netflix'i izlediğiniz cihazlar ve\n",
    "ne kadar süreyle izlediğiniz.\n",
    "Yaş ve cinsiyet gibi demografik verilerin kullanılmadığı yazıyor. Bunun muhtemel nedeni, veri setini basit tutmak olabilir. Ayrıca \"cinsiyet\" faktörünü eklemek, her ne kadar yarar sağlama olasılığı olan bir değişkenmiş gibi gözükse de, büyük olasılıkla modeli fazla özelleştirerek yeni verilere karşı hassasiyetini arttırıyor olabilir. Bunun yanı sıra, iki cinsiyet de karşı cinsiyetin ilgi alanlarından diziler ve filmler seçebildiği için, yine aynı nedenden dolayı demografik değişkenler ayrılmış olabilir.\n",
    "Yine de, yukarıdaki değişkenlere \"ülke\" veya \"üyelik türü\" faktörleri de eklenerek farklı modeller oluşturulabilir, o lokasyona özgü tavsiye sistemleri geliştirilebilir."
   ]
  }
 ],
 "metadata": {
  "kernelspec": {
   "display_name": "Python 3",
   "language": "python",
   "name": "python3"
  },
  "language_info": {
   "codemirror_mode": {
    "name": "ipython",
    "version": 3
   },
   "file_extension": ".py",
   "mimetype": "text/x-python",
   "name": "python",
   "nbconvert_exporter": "python",
   "pygments_lexer": "ipython3",
   "version": "3.9.4"
  }
 },
 "nbformat": 4,
 "nbformat_minor": 5
}
