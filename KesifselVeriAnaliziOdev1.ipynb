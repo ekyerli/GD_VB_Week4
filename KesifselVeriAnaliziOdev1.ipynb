{
 "cells": [
  {
   "cell_type": "markdown",
   "id": "american-damage",
   "metadata": {},
   "source": [
    "## Keşifsel Veri Analizinin amacı nedir?"
   ]
  },
  {
   "cell_type": "markdown",
   "id": "sophisticated-miracle",
   "metadata": {},
   "source": [
    "Algoritmaya sokacağımız veriyle, algoritma çıkışındaki modelin optimum koşullarda olması için verinin iyi bir şekilde analiz edilmezi, düzenlenmesi ve iyileştirilmesi gerekmektedir. Keşifsel veri analizinin amacı da modelin en iyi şekilde eğitilmesi için input verilerin düzenlenmesini sağlamaktır"
   ]
  },
  {
   "cell_type": "markdown",
   "id": "fitting-kitchen",
   "metadata": {},
   "source": [
    "## Bir e-ticaret şirketinin ürünlerine ait müşteri yorumlarını içeren bir veri kümesi üzerinde çalıştığınızı farz edin. Şirketin web sitesi aracılığıyla toplanan müşteri yorumları içeriğinin olumlu ya da olumsuz olmasına göre 1 ila 5 arasında derecelendirilmiştir."
   ]
  },
  {
   "cell_type": "markdown",
   "id": "seventh-casino",
   "metadata": {},
   "source": [
    "a) Mecazi kullanım olan cümlelerde hatalı puanlama yapmış olabilir. Boş değerli puanlamalar olabilir.\n",
    "\n",
    "b) Güzel,çirkin, kötü vs gibi sıfatlar tanımlardım. Cümlenin içinde geçtiği kelimeler ve miktarına göre numaralandırma yapardım. İÇerisin gülen yüz ya da üzgün suran olması göre bir değerlendirme yapardım.\n",
    "\n",
    "c) Bir örneklem yaratıp yorumları ve puanları karşılaştırırım, istenildiği gibi puanlama yaptığını düşünürsem faydalı olacağını düşünürüm."
   ]
  }
 ],
 "metadata": {
  "kernelspec": {
   "display_name": "Python 3",
   "language": "python",
   "name": "python3"
  },
  "language_info": {
   "codemirror_mode": {
    "name": "ipython",
    "version": 3
   },
   "file_extension": ".py",
   "mimetype": "text/x-python",
   "name": "python",
   "nbconvert_exporter": "python",
   "pygments_lexer": "ipython3",
   "version": "3.9.2"
  }
 },
 "nbformat": 4,
 "nbformat_minor": 5
}
