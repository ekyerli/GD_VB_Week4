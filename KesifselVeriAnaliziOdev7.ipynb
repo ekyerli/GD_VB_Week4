{
 "cells": [
  {
   "cell_type": "code",
   "execution_count": 21,
   "id": "suspected-panic",
   "metadata": {},
   "outputs": [],
   "source": [
    "import pandas as pd\n",
    "import numpy as np\n",
    "import warnings\n",
    "import matplotlib.pyplot as plt\n",
    "from scipy.stats.mstats import winsorize\n",
    "warnings.filterwarnings('ignore')\n",
    "import seaborn as sns\n",
    "\n",
    "states = pd.read_csv(\"StudentsPerformance.csv\")"
   ]
  },
  {
   "cell_type": "code",
   "execution_count": 11,
   "id": "hawaiian-pixel",
   "metadata": {},
   "outputs": [
    {
     "data": {
      "text/plain": [
       "(array([  2.,   6.,  14.,  55., 126., 161., 223., 225., 120.,  68.]),\n",
       " array([ 10.,  19.,  28.,  37.,  46.,  55.,  64.,  73.,  82.,  91., 100.]),\n",
       " <BarContainer object of 10 artists>)"
      ]
     },
     "execution_count": 11,
     "metadata": {},
     "output_type": "execute_result"
    },
    {
     "data": {
      "image/png": "[encoded data removed]",
      "text/plain": [
       "<Figure size 1296x1080 with 3 Axes>"
      ]
     },
     "metadata": {
      "needs_background": "light"
     },
     "output_type": "display_data"
    }
   ],
   "source": [
    "# Are the exam scores (math, reading, writing) normally distributed? If not, what can we do to have a normal distribution?\n",
    "plt.figure(figsize=(18,15))\n",
    "plt.subplot(3, 3, 1)\n",
    "plt.hist(states[\"math score\"],10)\n",
    "plt.subplot(3, 3, 2)\n",
    "plt.hist(states[\"reading score\"],10)\n",
    "plt.subplot(3, 3, 3)\n",
    "plt.hist(states[\"writing score\"],10)"
   ]
  },
  {
   "cell_type": "markdown",
   "id": "plain-purple",
   "metadata": {},
   "source": [
    "Normal dağılıma benziyor o yüzden bir işlem yapmayacağım, eğer benzemeseydi log dönüşümü uygulayacaktım"
   ]
  },
  {
   "cell_type": "code",
   "execution_count": 12,
   "id": "architectural-commons",
   "metadata": {},
   "outputs": [],
   "source": [
    "#We want to keep the three exam results in one variable, as the target variable. To do this, define a new variable containing the average of the three exams. Test whether the average of this new variable is normally distributed. If it does not have a normal distribution, try to make it normally distributed by transforming and test the result of the transformation.\n",
    "states[\"TotalPuan\"]=(states[\"math score\"]+states[\"reading score\"]+states[\"writing score\"])/3"
   ]
  },
  {
   "cell_type": "code",
   "execution_count": 13,
   "id": "distinguished-concentration",
   "metadata": {},
   "outputs": [
    {
     "data": {
      "text/plain": [
       "(array([  1.,   5.,  12.,  40., 124., 178., 262., 210., 122.,  46.]),\n",
       " array([  9. ,  18.1,  27.2,  36.3,  45.4,  54.5,  63.6,  72.7,  81.8,\n",
       "         90.9, 100. ]),\n",
       " <BarContainer object of 10 artists>)"
      ]
     },
     "execution_count": 13,
     "metadata": {},
     "output_type": "execute_result"
    },
    {
     "data": {
      "image/png": "[encoded data removed]",
      "text/plain": [
       "<Figure size 432x288 with 1 Axes>"
      ]
     },
     "metadata": {
      "needs_background": "light"
     },
     "output_type": "display_data"
    }
   ],
   "source": [
    "plt.hist(states[\"TotalPuan\"],10)"
   ]
  },
  {
   "cell_type": "markdown",
   "id": "designed-grammar",
   "metadata": {},
   "source": [
    "Normal dağılıma benziyor o yüzden bir işlem yapmayacağım, eğer benzemeseydi log dönüşümü uygulayacaktım"
   ]
  },
  {
   "cell_type": "code",
   "execution_count": 34,
   "id": "stretch-builder",
   "metadata": {},
   "outputs": [
    {
     "data": {
      "text/html": [
       "<div>\n",
       "<style scoped>\n",
       "    .dataframe tbody tr th:only-of-type {\n",
       "        vertical-align: middle;\n",
       "    }\n",
       "\n",
       "    .dataframe tbody tr th {\n",
       "        vertical-align: top;\n",
       "    }\n",
       "\n",
       "    .dataframe thead th {\n",
       "        text-align: right;\n",
       "    }\n",
       "</style>\n",
       "<table border=\"1\" class=\"dataframe\">\n",
       "  <thead>\n",
       "    <tr style=\"text-align: right;\">\n",
       "      <th></th>\n",
       "      <th>math score</th>\n",
       "      <th>reading score</th>\n",
       "      <th>writing score</th>\n",
       "    </tr>\n",
       "    <tr>\n",
       "      <th>gender</th>\n",
       "      <th></th>\n",
       "      <th></th>\n",
       "      <th></th>\n",
       "    </tr>\n",
       "  </thead>\n",
       "  <tbody>\n",
       "    <tr>\n",
       "      <th>female</th>\n",
       "      <td>63.633205</td>\n",
       "      <td>72.608108</td>\n",
       "      <td>72.467181</td>\n",
       "    </tr>\n",
       "    <tr>\n",
       "      <th>male</th>\n",
       "      <td>68.728216</td>\n",
       "      <td>65.473029</td>\n",
       "      <td>63.311203</td>\n",
       "    </tr>\n",
       "  </tbody>\n",
       "</table>\n",
       "</div>"
      ],
      "text/plain": [
       "        math score  reading score  writing score\n",
       "gender                                          \n",
       "female   63.633205      72.608108      72.467181\n",
       "male     68.728216      65.473029      63.311203"
      ]
     },
     "execution_count": 34,
     "metadata": {},
     "output_type": "execute_result"
    }
   ],
   "source": [
    "states.groupby(\"gender\").mean()"
   ]
  },
  {
   "cell_type": "code",
   "execution_count": 35,
   "id": "aggressive-contribution",
   "metadata": {},
   "outputs": [
    {
     "data": {
      "text/html": [
       "<div>\n",
       "<style scoped>\n",
       "    .dataframe tbody tr th:only-of-type {\n",
       "        vertical-align: middle;\n",
       "    }\n",
       "\n",
       "    .dataframe tbody tr th {\n",
       "        vertical-align: top;\n",
       "    }\n",
       "\n",
       "    .dataframe thead th {\n",
       "        text-align: right;\n",
       "    }\n",
       "</style>\n",
       "<table border=\"1\" class=\"dataframe\">\n",
       "  <thead>\n",
       "    <tr style=\"text-align: right;\">\n",
       "      <th></th>\n",
       "      <th>math score</th>\n",
       "      <th>reading score</th>\n",
       "      <th>writing score</th>\n",
       "    </tr>\n",
       "    <tr>\n",
       "      <th>race/ethnicity</th>\n",
       "      <th></th>\n",
       "      <th></th>\n",
       "      <th></th>\n",
       "    </tr>\n",
       "  </thead>\n",
       "  <tbody>\n",
       "    <tr>\n",
       "      <th>group A</th>\n",
       "      <td>61.629213</td>\n",
       "      <td>64.674157</td>\n",
       "      <td>62.674157</td>\n",
       "    </tr>\n",
       "    <tr>\n",
       "      <th>group B</th>\n",
       "      <td>63.452632</td>\n",
       "      <td>67.352632</td>\n",
       "      <td>65.600000</td>\n",
       "    </tr>\n",
       "    <tr>\n",
       "      <th>group C</th>\n",
       "      <td>64.463950</td>\n",
       "      <td>69.103448</td>\n",
       "      <td>67.827586</td>\n",
       "    </tr>\n",
       "    <tr>\n",
       "      <th>group D</th>\n",
       "      <td>67.362595</td>\n",
       "      <td>70.030534</td>\n",
       "      <td>70.145038</td>\n",
       "    </tr>\n",
       "    <tr>\n",
       "      <th>group E</th>\n",
       "      <td>73.821429</td>\n",
       "      <td>73.028571</td>\n",
       "      <td>71.407143</td>\n",
       "    </tr>\n",
       "  </tbody>\n",
       "</table>\n",
       "</div>"
      ],
      "text/plain": [
       "                math score  reading score  writing score\n",
       "race/ethnicity                                          \n",
       "group A          61.629213      64.674157      62.674157\n",
       "group B          63.452632      67.352632      65.600000\n",
       "group C          64.463950      69.103448      67.827586\n",
       "group D          67.362595      70.030534      70.145038\n",
       "group E          73.821429      73.028571      71.407143"
      ]
     },
     "execution_count": 35,
     "metadata": {},
     "output_type": "execute_result"
    }
   ],
   "source": [
    "states.groupby(\"race/ethnicity\").mean()"
   ]
  },
  {
   "cell_type": "code",
   "execution_count": 36,
   "id": "built-extreme",
   "metadata": {},
   "outputs": [
    {
     "data": {
      "text/html": [
       "<div>\n",
       "<style scoped>\n",
       "    .dataframe tbody tr th:only-of-type {\n",
       "        vertical-align: middle;\n",
       "    }\n",
       "\n",
       "    .dataframe tbody tr th {\n",
       "        vertical-align: top;\n",
       "    }\n",
       "\n",
       "    .dataframe thead th {\n",
       "        text-align: right;\n",
       "    }\n",
       "</style>\n",
       "<table border=\"1\" class=\"dataframe\">\n",
       "  <thead>\n",
       "    <tr style=\"text-align: right;\">\n",
       "      <th></th>\n",
       "      <th>math score</th>\n",
       "      <th>reading score</th>\n",
       "      <th>writing score</th>\n",
       "    </tr>\n",
       "    <tr>\n",
       "      <th>parental level of education</th>\n",
       "      <th></th>\n",
       "      <th></th>\n",
       "      <th></th>\n",
       "    </tr>\n",
       "  </thead>\n",
       "  <tbody>\n",
       "    <tr>\n",
       "      <th>associate's degree</th>\n",
       "      <td>67.882883</td>\n",
       "      <td>70.927928</td>\n",
       "      <td>69.896396</td>\n",
       "    </tr>\n",
       "    <tr>\n",
       "      <th>bachelor's degree</th>\n",
       "      <td>69.389831</td>\n",
       "      <td>73.000000</td>\n",
       "      <td>73.381356</td>\n",
       "    </tr>\n",
       "    <tr>\n",
       "      <th>high school</th>\n",
       "      <td>62.137755</td>\n",
       "      <td>64.704082</td>\n",
       "      <td>62.448980</td>\n",
       "    </tr>\n",
       "    <tr>\n",
       "      <th>master's degree</th>\n",
       "      <td>69.745763</td>\n",
       "      <td>75.372881</td>\n",
       "      <td>75.677966</td>\n",
       "    </tr>\n",
       "    <tr>\n",
       "      <th>some college</th>\n",
       "      <td>67.128319</td>\n",
       "      <td>69.460177</td>\n",
       "      <td>68.840708</td>\n",
       "    </tr>\n",
       "    <tr>\n",
       "      <th>some high school</th>\n",
       "      <td>63.497207</td>\n",
       "      <td>66.938547</td>\n",
       "      <td>64.888268</td>\n",
       "    </tr>\n",
       "  </tbody>\n",
       "</table>\n",
       "</div>"
      ],
      "text/plain": [
       "                             math score  reading score  writing score\n",
       "parental level of education                                          \n",
       "associate's degree            67.882883      70.927928      69.896396\n",
       "bachelor's degree             69.389831      73.000000      73.381356\n",
       "high school                   62.137755      64.704082      62.448980\n",
       "master's degree               69.745763      75.372881      75.677966\n",
       "some college                  67.128319      69.460177      68.840708\n",
       "some high school              63.497207      66.938547      64.888268"
      ]
     },
     "execution_count": 36,
     "metadata": {},
     "output_type": "execute_result"
    }
   ],
   "source": [
    "states.groupby(\"parental level of education\").mean()"
   ]
  },
  {
   "cell_type": "code",
   "execution_count": 37,
   "id": "experienced-vacuum",
   "metadata": {},
   "outputs": [
    {
     "data": {
      "text/html": [
       "<div>\n",
       "<style scoped>\n",
       "    .dataframe tbody tr th:only-of-type {\n",
       "        vertical-align: middle;\n",
       "    }\n",
       "\n",
       "    .dataframe tbody tr th {\n",
       "        vertical-align: top;\n",
       "    }\n",
       "\n",
       "    .dataframe thead th {\n",
       "        text-align: right;\n",
       "    }\n",
       "</style>\n",
       "<table border=\"1\" class=\"dataframe\">\n",
       "  <thead>\n",
       "    <tr style=\"text-align: right;\">\n",
       "      <th></th>\n",
       "      <th>math score</th>\n",
       "      <th>reading score</th>\n",
       "      <th>writing score</th>\n",
       "    </tr>\n",
       "    <tr>\n",
       "      <th>lunch</th>\n",
       "      <th></th>\n",
       "      <th></th>\n",
       "      <th></th>\n",
       "    </tr>\n",
       "  </thead>\n",
       "  <tbody>\n",
       "    <tr>\n",
       "      <th>free/reduced</th>\n",
       "      <td>58.921127</td>\n",
       "      <td>64.653521</td>\n",
       "      <td>63.022535</td>\n",
       "    </tr>\n",
       "    <tr>\n",
       "      <th>standard</th>\n",
       "      <td>70.034109</td>\n",
       "      <td>71.654264</td>\n",
       "      <td>70.823256</td>\n",
       "    </tr>\n",
       "  </tbody>\n",
       "</table>\n",
       "</div>"
      ],
      "text/plain": [
       "              math score  reading score  writing score\n",
       "lunch                                                 \n",
       "free/reduced   58.921127      64.653521      63.022535\n",
       "standard       70.034109      71.654264      70.823256"
      ]
     },
     "execution_count": 37,
     "metadata": {},
     "output_type": "execute_result"
    }
   ],
   "source": [
    "states.groupby(\"lunch\").mean()"
   ]
  },
  {
   "cell_type": "code",
   "execution_count": 38,
   "id": "egyptian-alaska",
   "metadata": {},
   "outputs": [
    {
     "data": {
      "text/html": [
       "<div>\n",
       "<style scoped>\n",
       "    .dataframe tbody tr th:only-of-type {\n",
       "        vertical-align: middle;\n",
       "    }\n",
       "\n",
       "    .dataframe tbody tr th {\n",
       "        vertical-align: top;\n",
       "    }\n",
       "\n",
       "    .dataframe thead th {\n",
       "        text-align: right;\n",
       "    }\n",
       "</style>\n",
       "<table border=\"1\" class=\"dataframe\">\n",
       "  <thead>\n",
       "    <tr style=\"text-align: right;\">\n",
       "      <th></th>\n",
       "      <th>math score</th>\n",
       "      <th>reading score</th>\n",
       "      <th>writing score</th>\n",
       "    </tr>\n",
       "    <tr>\n",
       "      <th>test preparation course</th>\n",
       "      <th></th>\n",
       "      <th></th>\n",
       "      <th></th>\n",
       "    </tr>\n",
       "  </thead>\n",
       "  <tbody>\n",
       "    <tr>\n",
       "      <th>completed</th>\n",
       "      <td>69.695531</td>\n",
       "      <td>73.893855</td>\n",
       "      <td>74.418994</td>\n",
       "    </tr>\n",
       "    <tr>\n",
       "      <th>none</th>\n",
       "      <td>64.077882</td>\n",
       "      <td>66.534268</td>\n",
       "      <td>64.504673</td>\n",
       "    </tr>\n",
       "  </tbody>\n",
       "</table>\n",
       "</div>"
      ],
      "text/plain": [
       "                         math score  reading score  writing score\n",
       "test preparation course                                          \n",
       "completed                 69.695531      73.893855      74.418994\n",
       "none                      64.077882      66.534268      64.504673"
      ]
     },
     "execution_count": 38,
     "metadata": {},
     "output_type": "execute_result"
    }
   ],
   "source": [
    "states.groupby(\"test preparation course\").mean()"
   ]
  },
  {
   "cell_type": "markdown",
   "id": "complimentary-parcel",
   "metadata": {},
   "source": [
    "Yukarıda görüldüğü üzere aslında tüm kolonların puan tahmini üzerinde hatrı sayılır bir etkisi mevcut."
   ]
  },
  {
   "cell_type": "markdown",
   "id": "worthy-questionnaire",
   "metadata": {},
   "source": [
    "#Does the test preparation course have an impact on the target variable you created?"
   ]
  },
  {
   "cell_type": "markdown",
   "id": "educated-award",
   "metadata": {},
   "source": [
    "Evet hazırlık kursu alanların notları daha yüksek."
   ]
  },
  {
   "cell_type": "code",
   "execution_count": null,
   "id": "adaptive-implement",
   "metadata": {},
   "outputs": [],
   "source": []
  }
 ],
 "metadata": {
  "kernelspec": {
   "display_name": "Python 3",
   "language": "python",
   "name": "python3"
  },
  "language_info": {
   "codemirror_mode": {
    "name": "ipython",
    "version": 3
   },
   "file_extension": ".py",
   "mimetype": "text/x-python",
   "name": "python",
   "nbconvert_exporter": "python",
   "pygments_lexer": "ipython3",
   "version": "3.9.4"
  }
 },
 "nbformat": 4,
 "nbformat_minor": 5
}
